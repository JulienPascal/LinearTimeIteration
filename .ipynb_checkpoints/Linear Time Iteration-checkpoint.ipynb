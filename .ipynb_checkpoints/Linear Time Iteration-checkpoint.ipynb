{
 "cells": [
  {
   "cell_type": "markdown",
   "metadata": {},
   "source": [
    "# Linear Time Iteration"
   ]
  },
  {
   "cell_type": "markdown",
   "metadata": {},
   "source": [
    "The details of solving rational expectations models are somewhat tricky. Yet, a paper by [Pontus Rendahl](https://sites.google.com/site/pontusrendahl/) underlines that an easy (and fast) method exists. What's more, this method seems to be adapted to regime switching models and to models with a large state variable. The last point is particularly relevant if one works with heterogeneous agents models and uses Reiter (2009) method to solve them. In this post, I describe the method (closely following the paper) and give simple examples in Julia. "
   ]
  },
  {
   "cell_type": "markdown",
   "metadata": {},
   "source": [
    "## Intuition"
   ]
  },
  {
   "cell_type": "markdown",
   "metadata": {},
   "source": [
    "Below, I quote some fundamental passages from the paper, discussing the intuition of the method:"
   ]
  },
  {
   "cell_type": "markdown",
   "metadata": {},
   "source": [
    "> \"The logic underlying the procedure is simple enough to be described in words. Envisage an agent having a certain amount of an asset, facing the choice between how much of this asset to **consume and how much to save**. An optimal choice would **trade off the marginal benefit of saving (future consumption) with its marginal cost (forgone current consumption)**. The resulting optimal decision is implied by a linear(ized) second-order difference equation\""
   ]
  },
  {
   "cell_type": "markdown",
   "metadata": {},
   "source": [
    "> \"[...] the future marginal benefit of saving depends on **the optimal saving choice in the future**. Thus, an optimal choice today can only be determined underthe condition that the optimal choice in **the future is known**; thus the problem amounts to **finding a fixed point**. To solve this problem, this paper proposes to **guess for the optimal choice** of saving in the future as a **linear function of the associated state** (which is given by the optimal choice in thepresent). Given such a guess, the optimal choice in the present is then trivially given by solving a linear equation. However, the current optimal choice provides us with another suggestion regarding future optimal behavior, and the guess is updated accordingly.\""
   ]
  },
  {
   "cell_type": "markdown",
   "metadata": {},
   "source": [
    "To summarize (i) solving a rational expectations model is intrinsically a fixed-point problem (ii) the Linear Time Iteration approach assumes a particular form for the solution of the problem and iterates the solution forward. The paper makes sure that this procedure converges and is well behaved."
   ]
  },
  {
   "cell_type": "markdown",
   "metadata": {},
   "source": [
    "## The Method"
   ]
  },
  {
   "cell_type": "markdown",
   "metadata": {},
   "source": [
    "We are interested in solving a model of the form:\n",
    "\n",
    "$$ A x_{t-1} + B x_{t} + C E_{t} [x_{t+1}] + u_{t} = 0 $$ "
   ]
  },
  {
   "cell_type": "markdown",
   "metadata": {},
   "source": [
    "Where $x_t$ is an n × 1 vector containing endogenous and exogenous variables, $u_t$ is an n × 1 vector of mean-zero disturbances, and $A$, $B$ and $C$ are conformable matrices."
   ]
  },
  {
   "cell_type": "markdown",
   "metadata": {},
   "source": [
    "Let us assume that the solution is:"
   ]
  },
  {
   "cell_type": "markdown",
   "metadata": {},
   "source": [
    " $$ x_{t} = F x_{t-1} + Q u_{t} $$"
   ]
  },
  {
   "cell_type": "markdown",
   "metadata": {},
   "source": [
    "where $F$ and $Q$ are unknown matrices."
   ]
  },
  {
   "cell_type": "markdown",
   "metadata": {},
   "source": [
    "Substituting the linear law of motion into the first equation (and using the fact that $u_{t+1}$ is a mean-zero random noise term) yields:\n",
    "\n",
    "$$ A x_{t−1} + B x_{t} + CF x_{t} + u_{t} = 0. $$ "
   ]
  },
  {
   "cell_type": "markdown",
   "metadata": {},
   "source": [
    "This equation can be written as:"
   ]
  },
  {
   "cell_type": "markdown",
   "metadata": {},
   "source": [
    "$$ x_{t} = -(B + CF)^{-1} A x_{t−1} + (-(B + CF)^{-1})u_t $$ "
   ]
  },
  {
   "cell_type": "markdown",
   "metadata": {},
   "source": [
    "Comparing the solution we assumed in the first place, and the last equation, we see that:\n",
    "\n",
    "$$ Q = -(B + CF)^{-1}$$ "
   ]
  },
  {
   "cell_type": "markdown",
   "metadata": {},
   "source": [
    "The previous manipulations show that if one knows $F$, finding $Q$ is trivial (because $B$ and $C$ are known).\n",
    "In practical terms, we can focus on solving the deterministic part of the problem (ignoring the $u_t$), since\n",
    "we can then back out the stochastic solution using our equation for $Q$."
   ]
  },
  {
   "cell_type": "markdown",
   "metadata": {},
   "source": [
    "The deterministic problem is:\n",
    "\n",
    "$$ A x_{t-1} + B x_{t} + C x_{t+1}  = 0 $$ "
   ]
  },
  {
   "cell_type": "markdown",
   "metadata": {},
   "source": [
    "And its associated solution is:\n",
    "\n",
    "$$ x_{t} = F x_{t-1} $$"
   ]
  },
  {
   "cell_type": "markdown",
   "metadata": {},
   "source": [
    "Now let's guess a value for $F$, denoted by $F_{n}$."
   ]
  },
  {
   "cell_type": "markdown",
   "metadata": {},
   "source": [
    "A simple substitution gives:"
   ]
  },
  {
   "cell_type": "markdown",
   "metadata": {},
   "source": [
    "$$ A x_{t-1} + B x_{t} + F_{n} C x_{t}  = 0 $$ "
   ]
  },
  {
   "cell_type": "markdown",
   "metadata": {},
   "source": [
    "Which can be re-written as:\n",
    "\n",
    "$$ x_{t}  = - (B + F_{n} C)^{-1}A x_{t-1}  $$ "
   ]
  },
  {
   "cell_type": "markdown",
   "metadata": {},
   "source": [
    "Comparing the solution we assumed in the first place and the last equation, the following **updating rule** seems to make sense:\n",
    "\n",
    "$$ F_{n+1} = - (B + F_{n} C)^{-1} A $$ "
   ]
  },
  {
   "cell_type": "markdown",
   "metadata": {},
   "source": [
    "One could apply the updating rule until the distance between $F_{n+1}$ and $F_{n}$ is small, but the paper uses\n",
    "another stopping rule. Let's start with an observation and then give a definition:"
   ]
  },
  {
   "cell_type": "markdown",
   "metadata": {},
   "source": [
    "#### Fact\n",
    "\n",
    "If $F$ solves \n",
    "\n",
    "$$ A x_{t−1} + B x_{t} + CF x_{t} = 0. $$ \n",
    "\n",
    "then $F$ solves the quadratic matrix equation:\n",
    "\n",
    "$$ A + B F + C F^2 = 0 $$"
   ]
  },
  {
   "cell_type": "markdown",
   "metadata": {},
   "source": [
    "#### Definition\n",
    "\n",
    "A solution to the equation $$ A + B F + C F^2 = 0 $$ is called a **solvent**."
   ]
  },
  {
   "cell_type": "markdown",
   "metadata": {},
   "source": [
    "We now have all the elements to describe the Linear Time Iteration algorithm."
   ]
  },
  {
   "cell_type": "markdown",
   "metadata": {},
   "source": [
    "#### Algorithm"
   ]
  },
  {
   "cell_type": "markdown",
   "metadata": {},
   "source": [
    "* Guess a value for $F_0$\n",
    "* Calculate $ F_{1} = - (B + F_{0} C)^{-1} A $\n",
    "* If $ || A + B F_1 + C F_1^2 || < tol $ stop. $F_1$ is a solvent\n",
    "* Else, increment the index for $F$ and start again"
   ]
  },
  {
   "cell_type": "markdown",
   "metadata": {},
   "source": [
    "If all the eigenvalues of the resulting solvent are less than $1$ in absolute value, then we found a stable solution\n",
    "to the quadratic matrix equation. However, is is not necessarily the unique stable solution. For discussion on uniqueness and stability, an interested reader may refer to proposition 2 of the paper. "
   ]
  },
  {
   "cell_type": "markdown",
   "metadata": {},
   "source": [
    "## Examples"
   ]
  },
  {
   "cell_type": "markdown",
   "metadata": {},
   "source": [
    "Let's now see how the Linear Time Iteration performs on two simple examples described in the original paper."
   ]
  },
  {
   "cell_type": "markdown",
   "metadata": {},
   "source": [
    "### Example 1: a uni-dimensional example"
   ]
  },
  {
   "cell_type": "markdown",
   "metadata": {},
   "source": [
    "$$ 0.75 x_{t−1} − 2 x_{t} + x_{t+1} = 0 $$"
   ]
  },
  {
   "cell_type": "markdown",
   "metadata": {},
   "source": [
    "In this example, using Linear Time Iteration is clearly an overkill since we can calculate the solution by hand. \n",
    "The two solvents are $1.5$ and $0.5$. As we will see, the method laid above converges to the smaller of the two values."
   ]
  },
  {
   "cell_type": "code",
   "execution_count": 1,
   "metadata": {
    "scrolled": true
   },
   "outputs": [
    {
     "name": "stdout",
     "output_type": "stream",
     "text": [
      "Julia Version 1.0.3\n",
      "Commit 099e826241 (2018-12-18 01:34 UTC)\n",
      "Platform Info:\n",
      "  OS: Linux (x86_64-pc-linux-gnu)\n",
      "  CPU: Intel(R) Core(TM) i7-8850H CPU @ 2.60GHz\n",
      "  WORD_SIZE: 64\n",
      "  LIBM: libopenlibm\n",
      "  LLVM: libLLVM-6.0.0 (ORCJIT, skylake)\n"
     ]
    }
   ],
   "source": [
    "versioninfo()"
   ]
  },
  {
   "cell_type": "code",
   "execution_count": 2,
   "metadata": {},
   "outputs": [
    {
     "data": {
      "text/plain": [
       "0.0"
      ]
     },
     "execution_count": 2,
     "metadata": {},
     "output_type": "execute_result"
    }
   ],
   "source": [
    "# Parameters\n",
    "a = 0.75\n",
    "b = -2.0\n",
    "c = 1.0\n",
    "# Tolerance\n",
    "tol = 1e-6\n",
    "# Maximum iterations\n",
    "max_iter = 1000\n",
    "# Initial guess for F\n",
    "F_n = 0.0"
   ]
  },
  {
   "cell_type": "code",
   "execution_count": 3,
   "metadata": {},
   "outputs": [
    {
     "name": "stdout",
     "output_type": "stream",
     "text": [
      "convergence after 12 iterations\n",
      "final value for F is 0.4999981183200362\n"
     ]
    }
   ],
   "source": [
    "for i=1:max_iter\n",
    "    # Updating rule:\n",
    "    F_n_new =  -a*(1/(b + F_n*c))\n",
    "    # Stopping rule:\n",
    "    if abs(a + b *F_n_new + c*F_n_new^2) < tol \n",
    "        println(\"convergence after $i iterations\")\n",
    "        println(\"final value for F is $F_n\")\n",
    "        break\n",
    "    end\n",
    "    F_n = copy(F_n_new)\n",
    "    if i == max_iter\n",
    "        println(\"convergence NOT reached $i iterations\")\n",
    "    end\n",
    "end\n",
    "    "
   ]
  },
  {
   "cell_type": "markdown",
   "metadata": {},
   "source": [
    "### Dealing with singular solvents"
   ]
  },
  {
   "cell_type": "markdown",
   "metadata": {},
   "source": [
    "Even in some reasonable cases, the simple Linear Time Iteration algorithm described above might fail. For instance, because the model contains accounting identities, in which case the solvent may be \"singular\"."
   ]
  },
  {
   "cell_type": "markdown",
   "metadata": {},
   "source": [
    "#### Definition\n",
    "\n",
    "A solvent is **singular** if it cotains at least one eigenvalue equal to 1."
   ]
  },
  {
   "cell_type": "markdown",
   "metadata": {},
   "source": [
    "Fortunately, a simple trick extends the Linear Time Iteration method to singular solvents.\n",
    "One solves the modified quadratic matrix equation\n",
    "\n",
    "$$ \\hat{A} S^2 + \\hat{B} S + \\hat{C} = 0 $$\n"
   ]
  },
  {
   "cell_type": "markdown",
   "metadata": {},
   "source": [
    "where \n",
    "\n",
    "$$ \\hat{A} = C M^2 + B M + A $$\n",
    "$$ \\hat{B} = B + 2 C M$$\n",
    "$$ \\hat{C} = C$$\n",
    "$$ M = \\mu I $$"
   ]
  },
  {
   "cell_type": "markdown",
   "metadata": {},
   "source": [
    "with $\\mu$ a small positive real number and $I$ a conformable identity matrix. If the Linear Time Iteration\n",
    "algorithm applied to the modified system converges to $S$, the $F = S + M$ is solution to the original system. \n",
    "Below I define a function `t_iteration` the solves the modified system"
   ]
  },
  {
   "cell_type": "code",
   "execution_count": 4,
   "metadata": {},
   "outputs": [
    {
     "data": {
      "text/plain": [
       "t_iteration (generic function with 1 method)"
      ]
     },
     "execution_count": 4,
     "metadata": {},
     "output_type": "execute_result"
    }
   ],
   "source": [
    "using LinearAlgebra\n",
    "\n",
    "# Source: adapted from the matlab version made available by Pontus Rendahl on his website\n",
    "# https://sites.google.com/site/pontusrendahl/Research\n",
    "# This function solves the model Ax_{t-1}+Bx_{t}+CE_t[x_{t+1}]+u_t=0, and\n",
    "# finds the solution x_t=Fx_{t-1}+Qu_t. The parameter mu should be set\n",
    "# equal to a small number, e.g. mu=1e-6;\n",
    "\n",
    "function t_iteration(A::Array{Float64,2}, \n",
    "                    B::Array{Float64,2}, \n",
    "                    C::Array{Float64,2}, \n",
    "                    mu::Float64;\n",
    "                    tol::Float64=1e-12,\n",
    "                    max_iter::Int64 = 1000,\n",
    "                    F0::Array{Float64,2} = Array{Float64}(undef, 0, 0),\n",
    "                    S0::Array{Float64,2} = Array{Float64}(undef, 0, 0),\n",
    "                    verbose::Bool=false)\n",
    "\n",
    "# success flag:\n",
    "flag = 0\n",
    "    \n",
    "# Initialization\n",
    "dim = size(A,2)\n",
    "if isempty(F0) == true\n",
    "    F = zeros(dim,dim)\n",
    "else\n",
    "    F = F0\n",
    "end\n",
    "if isempty(S0) == true\n",
    "    S = zeros(dim,dim)\n",
    "else\n",
    "    S = S0\n",
    "end\n",
    "\n",
    "eye = zeros(dim,dim)\n",
    "for i = 1:dim\n",
    "    eye[i,i] = 1.0\n",
    "end\n",
    "    \n",
    "I = eye*mu\n",
    "Ch = C\n",
    "Bh = (B+C*2*I)\n",
    "Ah = (C*I^2+B*I+A)\n",
    "\n",
    "#Check the reciprocal condition number\n",
    "#if rcond(Ah)<1e-16\n",
    "#    disp('Matrix Ah is singular')\n",
    "#end\n",
    "\n",
    "metric = 1;\n",
    "nb_iter = 0\n",
    "    \n",
    "while metric>tol\n",
    "    nb_iter+=1\n",
    "    #\\(x, y)\n",
    "    #Left division operator: \n",
    "    #multiplication of y by the inverse of x on the left. \n",
    "    F = -(Bh+Ch*F)\\Ah\n",
    "    S = -(Bh+Ah*S)\\Ch;\n",
    "    \n",
    "    metric1 = maximum(abs.(Ah+Bh*F+Ch*F*F))\n",
    "    metric2 = maximum(abs.(Ah*S*S+Bh*S+Ch))\n",
    "    metric = max(metric1, metric2)\n",
    "        \n",
    "    if nb_iter == max_iter\n",
    "        if verbose == true\n",
    "            print(\"Maximum number of iterations reached. Convergence not reached.\")\n",
    "            print(\"metric = $metric\")\n",
    "        end\n",
    "        break\n",
    "    end\n",
    "end\n",
    "\n",
    "\n",
    "eig_F = maximum(abs.(eigvals(F)));\n",
    "eig_S = maximum(abs.(eigvals(S)));\n",
    "    \n",
    "if eig_F>1 || eig_S>1 || mu>1-eig_S\n",
    "    if verbose == true\n",
    "        println(\"Conditions of Proposition 3 violated\")\n",
    "    end\n",
    "else\n",
    "    flag = 1\n",
    "end\n",
    "\n",
    "F = F+I;\n",
    "Q = -inv(B+C*F);\n",
    "\n",
    "return F, Q, flag\n",
    "    \n",
    "end\n"
   ]
  },
  {
   "cell_type": "markdown",
   "metadata": {},
   "source": [
    "### Example 2: a bi-dimensional problem"
   ]
  },
  {
   "cell_type": "markdown",
   "metadata": {},
   "source": [
    "The problem is \n",
    "\n",
    "$$ 0.75 y_t - 0.5 y_{t+1} = 0 $$\n",
    "$$ -2 x_t + x_{t-1} - y_{t} = 0 $$"
   ]
  },
  {
   "cell_type": "markdown",
   "metadata": {},
   "source": [
    "This problem has three solvents. Two of them lead to unstable solution. The solvent associated to a stable solution is given by:\n",
    "\n",
    "$$   S = \\begin{bmatrix}\n",
    "    0 & 0 \\\\\n",
    "    0 & 0.5 \n",
    "  \\end{bmatrix}$$ "
   ]
  },
  {
   "cell_type": "code",
   "execution_count": 5,
   "metadata": {
    "scrolled": true
   },
   "outputs": [
    {
     "name": "stdout",
     "output_type": "stream",
     "text": [
      "Solvent is :[0.0 0.0; 0.0 0.5]\n"
     ]
    },
    {
     "data": {
      "image/png": "[encoded data removed]"
     },
     "execution_count": 5,
     "metadata": {},
     "output_type": "execute_result"
    }
   ],
   "source": [
    "# Defining the problem\n",
    "A = [[0. 0.];\n",
    "     [0. 1.]]\n",
    "\n",
    "B = [[0.75 0.];\n",
    "     [-1. -2.]]\n",
    "\n",
    "C = [[-0.5 0.];\n",
    "     [0. 0.]]\n",
    "\n",
    "# Finding a solvent\n",
    "F_n, Q_n, flag = t_iteration(A, B, C, 0.01, max_iter=1000)\n",
    "\n",
    "println(\"Solvent is :\", F_n)\n",
    "\n",
    "# Simulating the model forward\n",
    "using Plots\n",
    "pyplot()\n",
    "\n",
    "nb_periods = 20\n",
    "x = ones(2, nb_periods)\n",
    "#initialization\n",
    "x[:,1] = [1.0 1.0] #starting value\n",
    "\n",
    "for t=2:nb_periods\n",
    "    # Update rule\n",
    "    x[:,t] = F_n * x[:,t-1]\n",
    "end\n",
    "\n",
    "plot(x[1,:], label = \"xt\")\n",
    "plot!(x[2,:], label = \"yt\")"
   ]
  },
  {
   "cell_type": "markdown",
   "metadata": {},
   "source": [
    "## Conclusion"
   ]
  },
  {
   "cell_type": "markdown",
   "metadata": {},
   "source": [
    "Linear Time Iteration is an intuitive an easily applicable method to solve (linear) rational expectations models. This post aimed at describing the intuition for it and give simple examples. In a subsequent post, I will use this technique to solve the stochastic growth model."
   ]
  },
  {
   "cell_type": "markdown",
   "metadata": {},
   "source": [
    "### References\n",
    "\n",
    "* Rendahl, Pontus. Linear time iteration. No. 330. IHS Economics Series, 2017.\n",
    "(https://www.ihs.ac.at/publications/eco/es-330.pdf)\n",
    "* Reiter, Michael. \"Solving heterogeneous-agent models by projection and perturbation.\" Journal of Economic Dynamics and Control 33.3 (2009): 649-665."
   ]
  }
 ],
 "metadata": {
  "kernelspec": {
   "display_name": "Julia 1.0.3",
   "language": "julia",
   "name": "julia-1.0"
  },
  "language_info": {
   "file_extension": ".jl",
   "mimetype": "application/julia",
   "name": "julia",
   "version": "1.0.3"
  }
 },
 "nbformat": 4,
 "nbformat_minor": 2
}
